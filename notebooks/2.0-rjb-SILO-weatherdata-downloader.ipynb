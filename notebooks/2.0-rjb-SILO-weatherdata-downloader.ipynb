{
 "cells": [
  {
   "cell_type": "markdown",
   "metadata": {},
   "source": [
    "## Download monthly rainfall data from SILO"
   ]
  },
  {
   "cell_type": "code",
   "execution_count": 2,
   "metadata": {},
   "outputs": [],
   "source": [
    "#  import packages\n",
    "\n",
    "import pandas as pd\n",
    "import numpy as np\n",
    "import requests\n",
    "import csv\n",
    "import json\n",
    "from pandas import json_normalize\n",
    "import re\n",
    "import time\n",
    "import os\n",
    "from dotenv import load_dotenv, find_dotenv"
   ]
  },
  {
   "cell_type": "markdown",
   "metadata": {},
   "source": [
    "#### SILO most recent month rainfall totals not corresponding with BOM\n",
    "#### Will look at appending BOM monthly rainlist totals to SILO dataset.\n",
    "#### SILO seems to come into line with BOMafter twomonths"
   ]
  },
  {
   "cell_type": "code",
   "execution_count": 30,
   "metadata": {},
   "outputs": [
    {
     "name": "stdout",
     "output_type": "stream",
     "text": [
      "Loading .env from /home/roddyb/projects/wheatbelt_rainfall_analyser/.env\n",
      "Environment variables loaded successfully.\n"
     ]
    }
   ],
   "source": [
    "import os\n",
    "from dotenv import find_dotenv, load_dotenv\n",
    "\n",
    "# Find and load the .env file\n",
    "dotenv_path = find_dotenv()\n",
    "if dotenv_path:\n",
    "    print(f\"Loading .env from {dotenv_path}\")\n",
    "    load_dotenv(dotenv_path)\n",
    "else:\n",
    "    print(\".env file not found!\")\n",
    "\n",
    "# Access the environment variables\n",
    "silo_username = os.environ.get(\"SILO_USERNAME\")\n",
    "silo_password = os.environ.get(\"SILO_PASSWORD\")\n",
    "\n",
    "# Debugging output\n",
    "if silo_username and silo_password:\n",
    "    print(\"Environment variables loaded successfully.\")\n",
    "else:\n",
    "    print(\"Failed to load environment variables. Check .env file.\")\n",
    "\n"
   ]
  },
  {
   "cell_type": "code",
   "execution_count": 31,
   "metadata": {},
   "outputs": [
    {
     "name": "stdout",
     "output_type": "stream",
     "text": [
      "K16AM7NG\n",
      "SILO1838\n",
      "/home/roddyb/projects/wheatbelt_rainfall_analyser/.env\n"
     ]
    }
   ],
   "source": [
    "print(silo_password)\n",
    "print(silo_username)\n",
    "print(dotenv_path)"
   ]
  },
  {
   "cell_type": "code",
   "execution_count": 105,
   "metadata": {},
   "outputs": [],
   "source": [
    "# List containing weather stations in SILO Patched Point Dataset throughout the WA wheatbelt. Contains 376 stations\n",
    "# wa_station_list = ['9804', '9556', '10052', '10894', '10502', '10000', '10696', '10503', '8273', '10505', '9909', '10671', '10002', '10508', '9037', '10244', '8022', '10295', '11017', '10704', '8002', '8004', '9506', '9506', '9507', '9507', '9144', '8005', '10510', '9599', '11034', '10644', '10006', '10506', '10007', '10513', '10158', '8008', '10515', '10807', '8009', '9112', '12026', '9509', '9509', '9673', '10009', '10011', '12007', '10012', '10518', '10519', '10520', '8013', '9504', '10118', '9654', '9617', '10524', '10525', '10016', '11035', '12011', '12013', '10527', '10044', '8017', '10019', '9603', '9515', '9515', '10155', '10156', '8157', '9519', '9520', '8025', '10530', '9803', '9006', '10531', '10878', '10729', '10149', '9628', '9994', '10534', '10725', '10294', '8240', '8037', '12295', '10536', '12220', '10032', '10537', '10866', '10538', '9769', '10286', '8297', '8014', '9822', '9014', '10542', '9530', '10544', '9752', '8044', '10039', '10120', '10040', '10041', '10042', '10546', '10872', '9538', '8179', '10550', '10045', '8225', '8200', '9772', '9789', '9542', '9631', '11003', '11019', '8047', '10243', '8233', '11052', '10034', '9635', '9843', '12029', '10053', '10055', '10792', '8050', '8288', '9018', '9178', '10084', '8052', '8016', '10823', '10831', '10558', '10026', '10058', '12028', '10560', '10150', '8057', '9552', '8238', '10061', '10603', '8077', '10564', '10151', '10565', '9961', '10566', '8168', '8061', '10568', '10705', '12077', '8064', '8276', '8065', '10905', '10571', '9842', '10707', '10192', '9131', '10070', '8251', '9559', '10916', '12312', '10073', '10264', '9561', '10581', '10119', '10700', '10582', '8066', '10583', '8254', '10076', '8067', '10298', '10077', '10665', '10584', '10082', '9668', '10691', '10606', '10670', '10911', '9210', '10797', '9114', '8072', '10666', '9867', '12223', '9877', '8075', '8078', '8079', '9573', '9024', '10803', '9575', '10641', '9666', '11033', '10092', '9754', '8085', '10095', '8126', '8087', '10699', '8088', '10097', '10895', '8296', '10889', '12056', '9581', '9875', '10611', '10702', '9738', '10102', '8095', '8096', '11008', '12044', '10152', '9584', '8028', '10600', '10124', '9585', '10104', '10612', '10614', '11031', '9033', '9587', '10692', '10108', '12064', '12009', '10111', '8100', '9590', '10811', '10112', '10619', '10541', '10504', '9579', '10620', '8104', '9908', '10622', '9592', '9594', '8107', '8109', '8007', '10625', '10626', '10627', '10595', '9626', '10628', '10115', '10633', '11032', '11030', '10634', '9678', '10250', '12114', '10635', '8113', '9964', '9661', '12071', '9177', '8116', '12198', '9827', '12101', '10283', '9968', '8060', '12320', '10257', '10638', '10904', '9633', '9930', '10643', '10121', '10793', '10122', '9739', '8128', '10123', '10083', '10893', '9648', '9715', '8121', '10125', '10126', '12079', '10694', '9914', '10647', '9611', '9805', '9904', '8264', '8294', '10917', '9040', '10023', '9615', '8130', '10134', '10030', '9835', '9922', '9616', '12083', '9607', '10135', '10137', '10136', '10654', '9619', '10655', '9848', '9871', '8137', '10658', '10659', '9621', '8139', '10140', '10141', '8143', '10662', '9625', '10143', '9771', '10311', '10145', '12201', '10036', '9609', '8146', '8147']\n",
    "wa_station_list = ['9909', '9519', '9803', '9509'] #use short list for experiments\n",
    "# silo_wa_stations has been filtered from list of BOM stations with observation data for the current month. Contains 238 stations\n",
    "silo_wa_stations = ['9804', '9556', '10052', '10894', '10502', '10000', '10696', '10503', '8273', '10505', '10508', '9037', '10244', '8022', '11017', '8002', '8005', '9599', '10006', '10007', '10513', '10158', '8008', '10515', '9112', '12026', '9509', '10009', '10011', '10518', '10520', '8013', '9654', '9617', '10524', '10525', '10016', '12011', '10527', '10044', '10019', '9603', '9515', '10155', '8157', '9519', '8025', '10530', '9803', '10531', '10878', '10729', '10149', '9628', '9994', '10534', '10725', '10294', '8240', '8037', '10536', '10032', '10537', '10866', '9769', '10286', '8297', '8014', '9822', '9014', '10542', '9752', '8044', '10040', '10041', '10042', '10546', '10872', '9538', '10045', '8200', '9772', '9789', '9542', '9631', '11003', '11019', '9507', '11052', '10034', '9635', '10055', '10792', '8050', '9018', '9178', '8052', '8016', '10831', '10558', '10026', '10058', '8057', '9552', '10061', '8077', '10564', '10151', '10565', '9961', '8168', '10568', '10705', '12077', '10905', '10571', '9842', '10707', '10192', '9131', '8251', '10916', '10073', '10264', '9561', '10581', '10700', '10582', '8066', '8254', '10076', '10077', '10665', '10584', '10082', '10606', '10670', '10911', '9210', '9114', '8072', '12223', '9877', '8075', '8079', '9573', '10641', '10092', '9754', '8087', '8088', '10097', '8296', '10889', '9581', '10702', '9738', '10102', '8095', '11008', '12044', '10152', '9584', '8028', '10124', '9585', '10104', '10612', '10614', '9033', '9587', '10692', '12064', '12009', '10111', '8100', '9590', '10112', '10619', '10541', '9579', '10622', '9592', '8107', '10625', '10626', '10627', '10595', '9626', '10633', '10634', '9678', '10635', '8113', '9964', '9661', '12071', '9968', '8060', '12320', '10638', '10904', '9633', '9930', '10643', '10121', '10122', '9739', '8121', '10126', '10647', '9611', '9805', '8294', '10917', '9040', '9615', '8130', '10134', '12083', '9607', '10135', '10136', '10654', '9619', '9848', '8137', '8139', '10140', '8143', '10662', '9625', '10143', '9771', '10311', '10145', '12201', '8147']\n"
   ]
  },
  {
   "cell_type": "code",
   "execution_count": 106,
   "metadata": {},
   "outputs": [],
   "source": [
    "def random_wait():\n",
    "    \"\"\"fn: randomly choose a wait time based on\n",
    "    probability\"\"\"\n",
    "    wait_times = [0.2, 0.5, 1, 2]\n",
    "    probs = [0.3, 0.4, 0.2, 0.1]\n",
    "    choice = np.random.choice(wait_times, size = 1, p = probs)\n",
    "    return choice.item()           # Convert array to scalar"
   ]
  },
  {
   "cell_type": "code",
   "execution_count": 7,
   "metadata": {},
   "outputs": [],
   "source": [
    "silo_username = \"SILO1838\"\n",
    "silo_password = \"K16AM7NG\""
   ]
  },
  {
   "cell_type": "code",
   "execution_count": 107,
   "metadata": {},
   "outputs": [],
   "source": [
    "# create list of URL's with different station numbers and corresponding start date\n",
    "url_list1 = []\n",
    "for stat in wa_station_list:\n",
    "    #url is from old legacy site. Partially broken\n",
    "    url = 'https://legacy.longpaddock.qld.gov.au/cgi-bin/silo/PatchedPointDataset.php?format=Monthly&station={0}&start=20190701&finish=20190731&username={1}&password={2}'.format(stat, silo_username, silo_password)\n",
    "    # url_new is from new website. Data should be better\n",
    "    url_new = 'https://www.longpaddock.qld.gov.au/cgi-bin/silo/PatchedPointDataset.php?start=20240101&finish=20250131&station={}&format=Monthly&username=rj71baker@gmail.com'.format(stat)\n",
    "    url_list1.append(url_new)"
   ]
  },
  {
   "cell_type": "code",
   "execution_count": 108,
   "metadata": {},
   "outputs": [
    {
     "data": {
      "text/plain": [
       "['https://www.longpaddock.qld.gov.au/cgi-bin/silo/PatchedPointDataset.php?start=20240101&finish=20250131&station=9909&format=Monthly&username=rj71baker@gmail.com',\n",
       " 'https://www.longpaddock.qld.gov.au/cgi-bin/silo/PatchedPointDataset.php?start=20240101&finish=20250131&station=9519&format=Monthly&username=rj71baker@gmail.com',\n",
       " 'https://www.longpaddock.qld.gov.au/cgi-bin/silo/PatchedPointDataset.php?start=20240101&finish=20250131&station=9803&format=Monthly&username=rj71baker@gmail.com',\n",
       " 'https://www.longpaddock.qld.gov.au/cgi-bin/silo/PatchedPointDataset.php?start=20240101&finish=20250131&station=9509&format=Monthly&username=rj71baker@gmail.com']"
      ]
     },
     "execution_count": 108,
     "metadata": {},
     "output_type": "execute_result"
    }
   ],
   "source": [
    "url_list1"
   ]
  },
  {
   "cell_type": "code",
   "execution_count": 109,
   "metadata": {},
   "outputs": [],
   "source": [
    "# create list of pandas dataframes for each station\n",
    "colnames = ['date', 'max_temp', 'min_temp', 'rain', 'evap', 'radiation', 'vp']\n",
    "df_list = []\n",
    "for url in url_list1:\n",
    "\n",
    "    df_stat = pd.read_csv(url, skiprows = 26,sep = r'\\s+', header = None, names = colnames)\n",
    "    df_stat['station'] = int(re.findall(\"station=(\\\\d+)\",url)[0]) #regex finds station number\n",
    "    df_list.append(df_stat)\n",
    "    time.sleep(random_wait())"
   ]
  },
  {
   "cell_type": "code",
   "execution_count": 110,
   "metadata": {},
   "outputs": [
    {
     "data": {
      "text/html": [
       "<div>\n",
       "<style scoped>\n",
       "    .dataframe tbody tr th:only-of-type {\n",
       "        vertical-align: middle;\n",
       "    }\n",
       "\n",
       "    .dataframe tbody tr th {\n",
       "        vertical-align: top;\n",
       "    }\n",
       "\n",
       "    .dataframe thead th {\n",
       "        text-align: right;\n",
       "    }\n",
       "</style>\n",
       "<table border=\"1\" class=\"dataframe\">\n",
       "  <thead>\n",
       "    <tr style=\"text-align: right;\">\n",
       "      <th></th>\n",
       "      <th>date</th>\n",
       "      <th>max_temp</th>\n",
       "      <th>min_temp</th>\n",
       "      <th>rain</th>\n",
       "      <th>evap</th>\n",
       "      <th>radiation</th>\n",
       "      <th>vp</th>\n",
       "      <th>station</th>\n",
       "    </tr>\n",
       "  </thead>\n",
       "  <tbody>\n",
       "    <tr>\n",
       "      <th>0</th>\n",
       "      <td>20240100</td>\n",
       "      <td>30.0</td>\n",
       "      <td>15.6</td>\n",
       "      <td>0.0</td>\n",
       "      <td>285.8</td>\n",
       "      <td>28.0</td>\n",
       "      <td>15.6</td>\n",
       "      <td>9909</td>\n",
       "    </tr>\n",
       "    <tr>\n",
       "      <th>4</th>\n",
       "      <td>20240500</td>\n",
       "      <td>22.6</td>\n",
       "      <td>12.4</td>\n",
       "      <td>127.2</td>\n",
       "      <td>94.0</td>\n",
       "      <td>10.5</td>\n",
       "      <td>14.3</td>\n",
       "      <td>9909</td>\n",
       "    </tr>\n",
       "    <tr>\n",
       "      <th>8</th>\n",
       "      <td>20240900</td>\n",
       "      <td>19.4</td>\n",
       "      <td>9.2</td>\n",
       "      <td>30.2</td>\n",
       "      <td>115.3</td>\n",
       "      <td>17.1</td>\n",
       "      <td>12.2</td>\n",
       "      <td>9909</td>\n",
       "    </tr>\n",
       "    <tr>\n",
       "      <th>12</th>\n",
       "      <td>20250100</td>\n",
       "      <td>29.6</td>\n",
       "      <td>16.2</td>\n",
       "      <td>6.2</td>\n",
       "      <td>334.9</td>\n",
       "      <td>25.4</td>\n",
       "      <td>15.9</td>\n",
       "      <td>9909</td>\n",
       "    </tr>\n",
       "  </tbody>\n",
       "</table>\n",
       "</div>"
      ],
      "text/plain": [
       "        date  max_temp  min_temp   rain   evap  radiation    vp  station\n",
       "0   20240100      30.0      15.6    0.0  285.8       28.0  15.6     9909\n",
       "4   20240500      22.6      12.4  127.2   94.0       10.5  14.3     9909\n",
       "8   20240900      19.4       9.2   30.2  115.3       17.1  12.2     9909\n",
       "12  20250100      29.6      16.2    6.2  334.9       25.4  15.9     9909"
      ]
     },
     "execution_count": 110,
     "metadata": {},
     "output_type": "execute_result"
    }
   ],
   "source": [
    "df_list[0][::4]"
   ]
  },
  {
   "cell_type": "code",
   "execution_count": 111,
   "metadata": {},
   "outputs": [
    {
     "data": {
      "text/html": [
       "<div>\n",
       "<style scoped>\n",
       "    .dataframe tbody tr th:only-of-type {\n",
       "        vertical-align: middle;\n",
       "    }\n",
       "\n",
       "    .dataframe tbody tr th {\n",
       "        vertical-align: top;\n",
       "    }\n",
       "\n",
       "    .dataframe thead th {\n",
       "        text-align: right;\n",
       "    }\n",
       "</style>\n",
       "<table border=\"1\" class=\"dataframe\">\n",
       "  <thead>\n",
       "    <tr style=\"text-align: right;\">\n",
       "      <th></th>\n",
       "      <th>date</th>\n",
       "      <th>max_temp</th>\n",
       "      <th>min_temp</th>\n",
       "      <th>rain</th>\n",
       "      <th>evap</th>\n",
       "      <th>radiation</th>\n",
       "      <th>vp</th>\n",
       "      <th>station</th>\n",
       "    </tr>\n",
       "  </thead>\n",
       "  <tbody>\n",
       "    <tr>\n",
       "      <th>0</th>\n",
       "      <td>20240100</td>\n",
       "      <td>30.0</td>\n",
       "      <td>15.6</td>\n",
       "      <td>0.0</td>\n",
       "      <td>285.8</td>\n",
       "      <td>28.0</td>\n",
       "      <td>15.6</td>\n",
       "      <td>9909</td>\n",
       "    </tr>\n",
       "    <tr>\n",
       "      <th>1</th>\n",
       "      <td>20240200</td>\n",
       "      <td>31.2</td>\n",
       "      <td>16.3</td>\n",
       "      <td>0.2</td>\n",
       "      <td>285.9</td>\n",
       "      <td>23.8</td>\n",
       "      <td>14.8</td>\n",
       "      <td>9909</td>\n",
       "    </tr>\n",
       "    <tr>\n",
       "      <th>2</th>\n",
       "      <td>20240300</td>\n",
       "      <td>27.7</td>\n",
       "      <td>14.6</td>\n",
       "      <td>2.2</td>\n",
       "      <td>217.8</td>\n",
       "      <td>19.4</td>\n",
       "      <td>15.0</td>\n",
       "      <td>9909</td>\n",
       "    </tr>\n",
       "    <tr>\n",
       "      <th>3</th>\n",
       "      <td>20240400</td>\n",
       "      <td>25.6</td>\n",
       "      <td>12.5</td>\n",
       "      <td>0.6</td>\n",
       "      <td>181.6</td>\n",
       "      <td>15.7</td>\n",
       "      <td>12.1</td>\n",
       "      <td>9909</td>\n",
       "    </tr>\n",
       "    <tr>\n",
       "      <th>4</th>\n",
       "      <td>20240500</td>\n",
       "      <td>22.6</td>\n",
       "      <td>12.4</td>\n",
       "      <td>127.2</td>\n",
       "      <td>94.0</td>\n",
       "      <td>10.5</td>\n",
       "      <td>14.3</td>\n",
       "      <td>9909</td>\n",
       "    </tr>\n",
       "  </tbody>\n",
       "</table>\n",
       "</div>"
      ],
      "text/plain": [
       "       date  max_temp  min_temp   rain   evap  radiation    vp  station\n",
       "0  20240100      30.0      15.6    0.0  285.8       28.0  15.6     9909\n",
       "1  20240200      31.2      16.3    0.2  285.9       23.8  14.8     9909\n",
       "2  20240300      27.7      14.6    2.2  217.8       19.4  15.0     9909\n",
       "3  20240400      25.6      12.5    0.6  181.6       15.7  12.1     9909\n",
       "4  20240500      22.6      12.4  127.2   94.0       10.5  14.3     9909"
      ]
     },
     "execution_count": 111,
     "metadata": {},
     "output_type": "execute_result"
    }
   ],
   "source": [
    "# concatenate list of dfs into one\n",
    "df_concat = pd.concat(df_list)\n",
    "df_concat.head()"
   ]
  },
  {
   "cell_type": "code",
   "execution_count": 112,
   "metadata": {},
   "outputs": [],
   "source": [
    "# make string version of original column\n",
    "df_concat['date'] = df_concat['date'].astype(str)"
   ]
  },
  {
   "cell_type": "code",
   "execution_count": 113,
   "metadata": {},
   "outputs": [],
   "source": [
    "# make the new columns using string indexing\n",
    "df_concat['year'] = df_concat['date'].str[0:4].astype('int64')\n",
    "df_concat['month'] = df_concat['date'].str[4:6].astype('int64')"
   ]
  },
  {
   "cell_type": "code",
   "execution_count": 114,
   "metadata": {},
   "outputs": [],
   "source": [
    "# get rid of the extra variable (if you want)\n",
    "df_concat.drop('date', axis=1, inplace=True)"
   ]
  },
  {
   "cell_type": "code",
   "execution_count": 116,
   "metadata": {},
   "outputs": [
    {
     "data": {
      "text/html": [
       "<div>\n",
       "<style scoped>\n",
       "    .dataframe tbody tr th:only-of-type {\n",
       "        vertical-align: middle;\n",
       "    }\n",
       "\n",
       "    .dataframe tbody tr th {\n",
       "        vertical-align: top;\n",
       "    }\n",
       "\n",
       "    .dataframe thead th {\n",
       "        text-align: right;\n",
       "    }\n",
       "</style>\n",
       "<table border=\"1\" class=\"dataframe\">\n",
       "  <thead>\n",
       "    <tr style=\"text-align: right;\">\n",
       "      <th></th>\n",
       "      <th>max_temp</th>\n",
       "      <th>min_temp</th>\n",
       "      <th>rain</th>\n",
       "      <th>evap</th>\n",
       "      <th>radiation</th>\n",
       "      <th>vp</th>\n",
       "      <th>station</th>\n",
       "      <th>year</th>\n",
       "      <th>month</th>\n",
       "    </tr>\n",
       "  </thead>\n",
       "  <tbody>\n",
       "    <tr>\n",
       "      <th>8</th>\n",
       "      <td>20.0</td>\n",
       "      <td>6.0</td>\n",
       "      <td>34.2</td>\n",
       "      <td>119.5</td>\n",
       "      <td>18.3</td>\n",
       "      <td>11.4</td>\n",
       "      <td>9509</td>\n",
       "      <td>2024</td>\n",
       "      <td>9</td>\n",
       "    </tr>\n",
       "    <tr>\n",
       "      <th>9</th>\n",
       "      <td>23.9</td>\n",
       "      <td>8.8</td>\n",
       "      <td>31.4</td>\n",
       "      <td>169.7</td>\n",
       "      <td>21.9</td>\n",
       "      <td>12.5</td>\n",
       "      <td>9509</td>\n",
       "      <td>2024</td>\n",
       "      <td>10</td>\n",
       "    </tr>\n",
       "    <tr>\n",
       "      <th>10</th>\n",
       "      <td>26.4</td>\n",
       "      <td>10.7</td>\n",
       "      <td>16.4</td>\n",
       "      <td>210.5</td>\n",
       "      <td>24.5</td>\n",
       "      <td>12.2</td>\n",
       "      <td>9509</td>\n",
       "      <td>2024</td>\n",
       "      <td>11</td>\n",
       "    </tr>\n",
       "    <tr>\n",
       "      <th>11</th>\n",
       "      <td>31.2</td>\n",
       "      <td>13.3</td>\n",
       "      <td>1.4</td>\n",
       "      <td>303.6</td>\n",
       "      <td>28.6</td>\n",
       "      <td>13.8</td>\n",
       "      <td>9509</td>\n",
       "      <td>2024</td>\n",
       "      <td>12</td>\n",
       "    </tr>\n",
       "    <tr>\n",
       "      <th>12</th>\n",
       "      <td>33.2</td>\n",
       "      <td>16.0</td>\n",
       "      <td>3.3</td>\n",
       "      <td>328.2</td>\n",
       "      <td>26.8</td>\n",
       "      <td>15.5</td>\n",
       "      <td>9509</td>\n",
       "      <td>2025</td>\n",
       "      <td>1</td>\n",
       "    </tr>\n",
       "  </tbody>\n",
       "</table>\n",
       "</div>"
      ],
      "text/plain": [
       "    max_temp  min_temp  rain   evap  radiation    vp  station  year  month\n",
       "8       20.0       6.0  34.2  119.5       18.3  11.4     9509  2024      9\n",
       "9       23.9       8.8  31.4  169.7       21.9  12.5     9509  2024     10\n",
       "10      26.4      10.7  16.4  210.5       24.5  12.2     9509  2024     11\n",
       "11      31.2      13.3   1.4  303.6       28.6  13.8     9509  2024     12\n",
       "12      33.2      16.0   3.3  328.2       26.8  15.5     9509  2025      1"
      ]
     },
     "execution_count": 116,
     "metadata": {},
     "output_type": "execute_result"
    }
   ],
   "source": [
    "df_concat.tail()"
   ]
  },
  {
   "cell_type": "code",
   "execution_count": 19,
   "metadata": {},
   "outputs": [],
   "source": [
    "path = r'/mnt/c/Users/rj71b/Desktop/'\n",
    "\n"
   ]
  },
  {
   "cell_type": "code",
   "execution_count": 20,
   "metadata": {},
   "outputs": [],
   "source": [
    "df_concat.to_csv(path+'\\wa_silo_test_data.csv', index = False)"
   ]
  },
  {
   "cell_type": "code",
   "execution_count": 21,
   "metadata": {},
   "outputs": [
    {
     "data": {
      "text/plain": [
       "13"
      ]
     },
     "execution_count": 21,
     "metadata": {},
     "output_type": "execute_result"
    }
   ],
   "source": [
    "len(wa_station_list)"
   ]
  },
  {
   "cell_type": "markdown",
   "metadata": {},
   "source": [
    "### Have developed functions in src folder for downloadind weather data from SILO API and transforming to pandas dataframe"
   ]
  },
  {
   "cell_type": "markdown",
   "metadata": {},
   "source": [
    "## import custom functions from src to use in notebook"
   ]
  },
  {
   "cell_type": "code",
   "execution_count": 72,
   "metadata": {},
   "outputs": [],
   "source": [
    "# wa_silo_stations contains stations only in the SILO database. 116 fewer than wa_bom_stations\n",
    "wa_silo_stations = ['9909', '9519', '9803', '9509'] #, '9508', '9842', '9771', '9877', '9628', '9994', '9738', '9556', '9504', '9617', '9690', '9552', '9666', '9587', '9517', '9616', '9573', '9530', '9585', '9590', '9908', '9592', '9968', '9611', '9805', '9904', '9619', '9871', '9215', '9225', '9007', '10138', '9192', '9193', '9789', '9584', '9579', '9827', '9804', '10878', '9822', '9772', '9542', '9631', '12028', '9557', '9961', '12077', '12312', '12223', '10895', '9813', '12044', '10811', '9626', '10633', '12114', '12071', '12198', '9739', '9922', '8050', '8044', '8057', '8276', '8273', '8013', '8157', '8025', '8037', '8238', '8077', '8067', '8072', '8078', '8079', '8088', '8296', '8107', '8007', '8060', '8121', '8264', '8143', '8004', '8240', '8200', '8288', '8052', '8168', '8065', '8251', '8075', '8095', '8096', '8028', '8100', '8104', '8113', '8116', '8294', '8147', '9599', '9520', '9754', '9678', '9633', '9930', '9615', '9848', '9609', '10502', '10519', '9654', '10729', '10792', '10558', '10905', '10707', '10699', '10619', '10541', '10622', '9594', '10627', '10595', '10694', '9835', '10508', '10725', '10831', '10566', '10916', '10700', '10659', '10520', '10525', '10530', '10531', '10537', '10866', '10543', '9635', '9843', '10582', '10797', '10635', '10643', '10893', '9506', '9752', '9561', '9581', '9875', '9591', '9515', '9511', '9964', '9661', '9607', '9621', '9625', '9112', '9024', '9040', '10052', '10002', '10012', '10044', '10294', '10286', '10040', '10041', '10163', '10073', '10104', '10628', '10257', '10121', '10122', '10143', '10145', '10036', '10000', '8002', '10155', '10032', '10039', '10042', '10045', '10058', '10061', '8066', '8254', '10076', '10077', '10097', '8137', '10140', '9037', '9144', '9006', '9014', '9018', '9178', '9131', '9210', '9114', '10503', '10507', '10006', '10118', '10016', '10019', '10034', '10053', '10151', '10119', '10298', '10092', '10095', '10702', '10124', '10612', '10108', '10904', '10123', '10083', '8022', '8005', '8008', '10009', '10156', '8297', '8014', '10084', '8016', '10026', '8061', '8064', '10070', '8085', '8087', '9033', '8151', '8130', '8139', '10007', '10158', '12026', '10011', '12007', '12011', '10149', '10055', '10192', '10264', '10082', '12056', '10102', '12064', '10112', '12101', '12320', '10126', '12079', '10030', '12083', '10135', '10137', '10136', '12201', '10244', '10150', '10152', '10111', '10125', '10134', '10515', '10120', '10115', '10634', '10311', '10524', '10527', '10534', '10536', '10823', '10564', '10571', '10626', '10917', '10894', '10696', '10671', '10644', '10513', '10518', '10546', '10872', '10560', '10603', '10565', '10568', '10705', '10581', '10665', '10584', '10606', '10670', '10911', '10889', '10611', '10692', '10625', '10638', '10636', '10654', '10662', '10614', '10505', '10704', '10510', '10542', '9668', '10641', '10793', '9914', '10647', '10655', '10658']"
   ]
  },
  {
   "cell_type": "code",
   "execution_count": 67,
   "metadata": {},
   "outputs": [
    {
     "name": "stdout",
     "output_type": "stream",
     "text": [
      "The autoreload extension is already loaded. To reload it, use:\n",
      "  %reload_ext autoreload\n"
     ]
    }
   ],
   "source": [
    "# OPTIONAL: Load the \"autoreload\" extension so that code can change\n",
    "%load_ext autoreload\n",
    "\n",
    "# OPTIONAL: always reload modules so that as you change code in src, it gets loaded\n",
    "%autoreload 2"
   ]
  },
  {
   "cell_type": "code",
   "execution_count": 73,
   "metadata": {},
   "outputs": [],
   "source": [
    "# .py folder contains functions for dowloading SILO API weather data and transforming to pandas dataframe\n",
    "from src.data import silo_downloader"
   ]
  },
  {
   "cell_type": "code",
   "execution_count": 75,
   "metadata": {},
   "outputs": [],
   "source": [
    "# call the create_df function from silo_downloader. Downloads monthly weather data for stations in wa_station_list\n",
    "# requires 3 fields. A list of BOM station numbers. Start date and finish date in the format \"YYYYMMDD\"\n",
    "#SILO data starts on 18890101\n",
    "df = silo_downloader.create_df(wa_silo_stations, '20240101', '20240110')"
   ]
  },
  {
   "cell_type": "code",
   "execution_count": 77,
   "metadata": {},
   "outputs": [],
   "source": [
    "df.to_csv(r'/mnt/c/Users/rj71b/Desktop\\new_silo_weather_july.csv', index = False)"
   ]
  },
  {
   "cell_type": "code",
   "execution_count": 117,
   "metadata": {
    "scrolled": true
   },
   "outputs": [
    {
     "data": {
      "text/html": [
       "<div>\n",
       "<style scoped>\n",
       "    .dataframe tbody tr th:only-of-type {\n",
       "        vertical-align: middle;\n",
       "    }\n",
       "\n",
       "    .dataframe tbody tr th {\n",
       "        vertical-align: top;\n",
       "    }\n",
       "\n",
       "    .dataframe thead th {\n",
       "        text-align: right;\n",
       "    }\n",
       "</style>\n",
       "<table border=\"1\" class=\"dataframe\">\n",
       "  <thead>\n",
       "    <tr style=\"text-align: right;\">\n",
       "      <th></th>\n",
       "      <th>max_temp</th>\n",
       "      <th>min_temp</th>\n",
       "      <th>rain</th>\n",
       "      <th>evap</th>\n",
       "      <th>radiation</th>\n",
       "      <th>vp</th>\n",
       "      <th>station</th>\n",
       "      <th>year</th>\n",
       "      <th>month</th>\n",
       "    </tr>\n",
       "  </thead>\n",
       "  <tbody>\n",
       "    <tr>\n",
       "      <th>0</th>\n",
       "      <td>29.2</td>\n",
       "      <td>15.1</td>\n",
       "      <td>0.0</td>\n",
       "      <td>89.3</td>\n",
       "      <td>29.3</td>\n",
       "      <td>14.7</td>\n",
       "      <td>9909</td>\n",
       "      <td>2024</td>\n",
       "      <td>1</td>\n",
       "    </tr>\n",
       "    <tr>\n",
       "      <th>1</th>\n",
       "      <td>28.2</td>\n",
       "      <td>15.6</td>\n",
       "      <td>0.0</td>\n",
       "      <td>91.4</td>\n",
       "      <td>30.6</td>\n",
       "      <td>15.4</td>\n",
       "      <td>9519</td>\n",
       "      <td>2024</td>\n",
       "      <td>1</td>\n",
       "    </tr>\n",
       "    <tr>\n",
       "      <th>2</th>\n",
       "      <td>29.5</td>\n",
       "      <td>14.9</td>\n",
       "      <td>0.0</td>\n",
       "      <td>89.1</td>\n",
       "      <td>29.3</td>\n",
       "      <td>14.6</td>\n",
       "      <td>9803</td>\n",
       "      <td>2024</td>\n",
       "      <td>1</td>\n",
       "    </tr>\n",
       "    <tr>\n",
       "      <th>3</th>\n",
       "      <td>31.2</td>\n",
       "      <td>14.4</td>\n",
       "      <td>0.0</td>\n",
       "      <td>88.9</td>\n",
       "      <td>28.5</td>\n",
       "      <td>14.4</td>\n",
       "      <td>9509</td>\n",
       "      <td>2024</td>\n",
       "      <td>1</td>\n",
       "    </tr>\n",
       "  </tbody>\n",
       "</table>\n",
       "</div>"
      ],
      "text/plain": [
       "   max_temp  min_temp  rain  evap  radiation    vp  station  year  month\n",
       "0      29.2      15.1   0.0  89.3       29.3  14.7     9909  2024      1\n",
       "1      28.2      15.6   0.0  91.4       30.6  15.4     9519  2024      1\n",
       "2      29.5      14.9   0.0  89.1       29.3  14.6     9803  2024      1\n",
       "3      31.2      14.4   0.0  88.9       28.5  14.4     9509  2024      1"
      ]
     },
     "execution_count": 117,
     "metadata": {},
     "output_type": "execute_result"
    }
   ],
   "source": [
    "df"
   ]
  },
  {
   "cell_type": "code",
   "execution_count": 28,
   "metadata": {},
   "outputs": [
    {
     "name": "stdout",
     "output_type": "stream",
     "text": [
      "Found .env file at: /home/roddyb/projects/wheatbelt_rainfall_analyser/.env\n",
      "SILO_USERNAME: SILO1838\n",
      "SILO_PASSWORD: K16AM7NG\n",
      "SILO_EMAIL: rj71baker@gmail.com\n"
     ]
    }
   ],
   "source": [
    "import os\n",
    "from dotenv import load_dotenv, find_dotenv\n",
    "\n",
    "dotenv_path = find_dotenv()\n",
    "print(f\"Found .env file at: {dotenv_path}\")  # Should print the path to your .env file\n",
    "\n",
    "load_dotenv(dotenv_path)\n",
    "\n",
    "silo_username = os.environ.get(\"SILO_USERNAME\")\n",
    "silo_password = os.environ.get(\"SILO_PASSWORD\")\n",
    "silo_email = os.environ.get(\"SILO_EMAIL\")\n",
    "\n",
    "print(\"SILO_USERNAME:\", silo_username)\n",
    "print(\"SILO_PASSWORD:\", silo_password)\n",
    "print(\"SILO_EMAIL:\", silo_email)\n"
   ]
  }
 ],
 "metadata": {
  "kernelspec": {
   "display_name": "rainfall_analyser",
   "language": "python",
   "name": "python3"
  },
  "language_info": {
   "codemirror_mode": {
    "name": "ipython",
    "version": 3
   },
   "file_extension": ".py",
   "mimetype": "text/x-python",
   "name": "python",
   "nbconvert_exporter": "python",
   "pygments_lexer": "ipython3",
   "version": "3.9.21"
  }
 },
 "nbformat": 4,
 "nbformat_minor": 2
}
