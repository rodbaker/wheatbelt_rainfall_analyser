{
 "cells": [
  {
   "cell_type": "markdown",
   "metadata": {},
   "source": [
    "## Download file from S3\n",
    "This code uses the boto3 library to list all objects (files and folders) in all available S3 buckets."
   ]
  },
  {
   "cell_type": "code",
   "execution_count": 1,
   "metadata": {},
   "outputs": [
    {
     "name": "stdout",
     "output_type": "stream",
     "text": [
      "Bucket: auswheatdata\n",
      "  Viterra_test_data.csv\n",
      "  census data/\n",
      "  wa_silo_weather_data.csv\n",
      "  weather_data/\n",
      "  weather_data/viterra_test_data.csv\n",
      "  weather_data/wa_silo_july_data.csv\n",
      "  weather_data/wa_silo_weather_data.csv\n",
      "  weatherdata/wa_silo_weather_data.csv\n"
     ]
    }
   ],
   "source": [
    "import boto3\n",
    "import botocore\n",
    "import os \n",
    "# Create an S3 resource object\n",
    "s3 = boto3.resource('s3')\n",
    "\n",
    "try:\n",
    "    # Loop through all buckets in the S3 account\n",
    "    for bucket in s3.buckets.all():\n",
    "        print(f\"Bucket: {bucket.name}\")  # Print bucket name\n",
    "        # Loop through all objects (files and folders) in each bucket\n",
    "        for obj in bucket.objects.all():\n",
    "            print(f\"  {obj.key}\")  # Print the object's key (path)\n",
    "\n",
    "except botocore.exceptions.NoCredentialsError:\n",
    "    print(\"AWS credentials not found. Ensure they are set up correctly.\")\n",
    "\n",
    "except botocore.exceptions.PartialCredentialsError:\n",
    "    print(\"Incomplete AWS credentials. Check your AWS configuration.\")\n",
    "\n",
    "except botocore.exceptions.ClientError as e:\n",
    "    print(f\"AWS Client Error: {e}\")\n",
    "\n"
   ]
  },
  {
   "cell_type": "code",
   "execution_count": 3,
   "metadata": {},
   "outputs": [],
   "source": [
    "BUCKET_NAME = 'auswheatdata' # replace with your bucket name\n",
    "OBJECT_NAME = 'weather_data/wa_silo_weather_data.csv' # replace with your object key\n",
    "FILE_NAME = r'C:\\Users\\rj71b\\geo-projects\\wheatbelt_rainfall_analyser\\data\\external\\wa_silo_weather_data.csv'\n",
    "s3 = boto3.resource('s3')\n",
    "\n",
    "try:\n",
    "    s3.Bucket(BUCKET_NAME).download_file(OBJECT_NAME, FILE_NAME)\n",
    "except botocore.exceptions.ClientError as e:\n",
    "    if e.response['Error']['Code'] == \"404\":\n",
    "        print(\"The object does not exist.\")\n",
    "    else:\n",
    "        raise"
   ]
  },
  {
   "cell_type": "code",
   "execution_count": 9,
   "metadata": {},
   "outputs": [
    {
     "name": "stdout",
     "output_type": "stream",
     "text": [
      "Downloading weather_data/wa_silo_weather_data.csv from auswheatdata...\n",
      "File downloaded successfully to /mnt/c/Users/rj71b/Desktop/wa_silo_test1_data.csv\n"
     ]
    }
   ],
   "source": [
    "import boto3\n",
    "import botocore\n",
    "import os\n",
    "\n",
    "BUCKET_NAME = 'auswheatdata'\n",
    "OBJECT_NAME = 'weather_data/wa_silo_weather_data.csv'\n",
    "FILE_NAME = r'/mnt/c/Users/rj71b/Desktop/wa_silo_test1_data.csv'\n",
    "\n",
    "# Ensure local directory exists\n",
    "os.makedirs(os.path.dirname(FILE_NAME), exist_ok=True)\n",
    "\n",
    "s3 = boto3.resource('s3')\n",
    "\n",
    "try:\n",
    "    print(f\"Downloading {OBJECT_NAME} from {BUCKET_NAME}...\")\n",
    "    s3.Bucket(BUCKET_NAME).download_file(OBJECT_NAME, FILE_NAME)\n",
    "    print(f\"File downloaded successfully to {FILE_NAME}\")\n",
    "except botocore.exceptions.NoCredentialsError:\n",
    "    print(\"AWS credentials not found. Ensure your AWS CLI is configured correctly.\")\n",
    "except botocore.exceptions.PartialCredentialsError:\n",
    "    print(\"Incomplete AWS credentials. Please check your AWS configuration.\")\n",
    "except botocore.exceptions.ClientError as e:\n",
    "    if e.response['Error']['Code'] == \"404\":\n",
    "        print(f\"Error: The file {OBJECT_NAME} does not exist in bucket {BUCKET_NAME}.\")\n",
    "    elif e.response['Error']['Code'] == \"403\":\n",
    "        print(f\"Error: Access denied to {OBJECT_NAME} in bucket {BUCKET_NAME}. Check your S3 permissions.\")\n",
    "    else:\n",
    "        print(f\"AWS ClientError: {e}\")\n",
    "except Exception as e:\n",
    "    print(f\"Unexpected error: {e}\")\n"
   ]
  },
  {
   "cell_type": "code",
   "execution_count": null,
   "metadata": {},
   "outputs": [],
   "source": []
  }
 ],
 "metadata": {
  "kernelspec": {
   "display_name": "rainfall_analyser",
   "language": "python",
   "name": "python3"
  },
  "language_info": {
   "codemirror_mode": {
    "name": "ipython",
    "version": 3
   },
   "file_extension": ".py",
   "mimetype": "text/x-python",
   "name": "python",
   "nbconvert_exporter": "python",
   "pygments_lexer": "ipython3",
   "version": "3.10.16"
  }
 },
 "nbformat": 4,
 "nbformat_minor": 2
}
